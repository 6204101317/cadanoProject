{
  "nbformat": 4,
  "nbformat_minor": 0,
  "metadata": {
    "colab": {
      "name": "Project_345_317&Z315.ipynb",
      "provenance": [],
      "collapsed_sections": []
    },
    "kernelspec": {
      "name": "python3",
      "display_name": "Python 3"
    },
    "language_info": {
      "name": "python"
    }
  },
  "cells": [
    {
      "cell_type": "code",
      "metadata": {
        "id": "t7xTy-6kKM8S"
      },
      "source": [
        "from google.colab import drive\n",
        "drive.mount('/content/drive')"
      ],
      "execution_count": null,
      "outputs": []
    },
    {
      "cell_type": "code",
      "metadata": {
        "id": "VlCeB_gmTYJG"
      },
      "source": [
        "import math\n",
        "import pandas_datareader as web\n",
        "import numpy as np\n",
        "import pandas as pd\n",
        "from sklearn.preprocessing import MinMaxScaler\n",
        "from keras.models import Sequential\n",
        "from keras.layers import Dense, LSTM\n",
        "\n",
        "import matplotlib.pyplot as plt\n",
        "plt.style.use('fivethirtyeight')"
      ],
      "execution_count": null,
      "outputs": []
    },
    {
      "cell_type": "code",
      "metadata": {
        "colab": {
          "base_uri": "https://localhost:8080/",
          "height": 417
        },
        "id": "nIPIZB9UTbhW",
        "outputId": "9fa11e04-a3b5-46e3-abdb-2e16c3908ebe"
      },
      "source": [
        "df= pd.read_csv(\"/content/drive/MyDrive/coin_Cardano1.csv\")\n",
        "df"
      ],
      "execution_count": null,
      "outputs": [
        {
          "output_type": "execute_result",
          "data": {
            "text/html": [
              "<div>\n",
              "<style scoped>\n",
              "    .dataframe tbody tr th:only-of-type {\n",
              "        vertical-align: middle;\n",
              "    }\n",
              "\n",
              "    .dataframe tbody tr th {\n",
              "        vertical-align: top;\n",
              "    }\n",
              "\n",
              "    .dataframe thead th {\n",
              "        text-align: right;\n",
              "    }\n",
              "</style>\n",
              "<table border=\"1\" class=\"dataframe\">\n",
              "  <thead>\n",
              "    <tr style=\"text-align: right;\">\n",
              "      <th></th>\n",
              "      <th>Date</th>\n",
              "      <th>High</th>\n",
              "      <th>Low</th>\n",
              "      <th>Open</th>\n",
              "      <th>Close</th>\n",
              "      <th>Volume</th>\n",
              "      <th>Marketcap</th>\n",
              "    </tr>\n",
              "  </thead>\n",
              "  <tbody>\n",
              "    <tr>\n",
              "      <th>0</th>\n",
              "      <td>10/2/2017</td>\n",
              "      <td>0.030088</td>\n",
              "      <td>0.019969</td>\n",
              "      <td>0.024607</td>\n",
              "      <td>0.025932</td>\n",
              "      <td>5.764130e+07</td>\n",
              "      <td>6.288991e+08</td>\n",
              "    </tr>\n",
              "    <tr>\n",
              "      <th>1</th>\n",
              "      <td>10/3/2017</td>\n",
              "      <td>0.027425</td>\n",
              "      <td>0.020690</td>\n",
              "      <td>0.025757</td>\n",
              "      <td>0.020816</td>\n",
              "      <td>1.699780e+07</td>\n",
              "      <td>5.396927e+08</td>\n",
              "    </tr>\n",
              "    <tr>\n",
              "      <th>2</th>\n",
              "      <td>10/4/2017</td>\n",
              "      <td>0.022806</td>\n",
              "      <td>0.020864</td>\n",
              "      <td>0.020864</td>\n",
              "      <td>0.021931</td>\n",
              "      <td>9.000050e+06</td>\n",
              "      <td>5.686195e+08</td>\n",
              "    </tr>\n",
              "    <tr>\n",
              "      <th>3</th>\n",
              "      <td>10/5/2017</td>\n",
              "      <td>0.022154</td>\n",
              "      <td>0.020859</td>\n",
              "      <td>0.021951</td>\n",
              "      <td>0.021489</td>\n",
              "      <td>5.562510e+06</td>\n",
              "      <td>5.571390e+08</td>\n",
              "    </tr>\n",
              "    <tr>\n",
              "      <th>4</th>\n",
              "      <td>10/6/2017</td>\n",
              "      <td>0.021542</td>\n",
              "      <td>0.018360</td>\n",
              "      <td>0.021359</td>\n",
              "      <td>0.018539</td>\n",
              "      <td>7.780710e+06</td>\n",
              "      <td>4.806646e+08</td>\n",
              "    </tr>\n",
              "    <tr>\n",
              "      <th>...</th>\n",
              "      <td>...</td>\n",
              "      <td>...</td>\n",
              "      <td>...</td>\n",
              "      <td>...</td>\n",
              "      <td>...</td>\n",
              "      <td>...</td>\n",
              "      <td>...</td>\n",
              "    </tr>\n",
              "    <tr>\n",
              "      <th>1369</th>\n",
              "      <td>7/2/2021</td>\n",
              "      <td>1.394397</td>\n",
              "      <td>1.286607</td>\n",
              "      <td>1.332942</td>\n",
              "      <td>1.394397</td>\n",
              "      <td>2.159410e+09</td>\n",
              "      <td>4.454587e+10</td>\n",
              "    </tr>\n",
              "    <tr>\n",
              "      <th>1370</th>\n",
              "      <td>7/3/2021</td>\n",
              "      <td>1.441714</td>\n",
              "      <td>1.359664</td>\n",
              "      <td>1.394152</td>\n",
              "      <td>1.406836</td>\n",
              "      <td>2.028094e+09</td>\n",
              "      <td>4.494324e+10</td>\n",
              "    </tr>\n",
              "    <tr>\n",
              "      <th>1371</th>\n",
              "      <td>7/4/2021</td>\n",
              "      <td>1.493717</td>\n",
              "      <td>1.382153</td>\n",
              "      <td>1.404008</td>\n",
              "      <td>1.458184</td>\n",
              "      <td>1.806362e+09</td>\n",
              "      <td>4.658364e+10</td>\n",
              "    </tr>\n",
              "    <tr>\n",
              "      <th>1372</th>\n",
              "      <td>7/5/2021</td>\n",
              "      <td>1.461221</td>\n",
              "      <td>1.379284</td>\n",
              "      <td>1.461221</td>\n",
              "      <td>1.404898</td>\n",
              "      <td>1.759461e+09</td>\n",
              "      <td>4.488134e+10</td>\n",
              "    </tr>\n",
              "    <tr>\n",
              "      <th>1373</th>\n",
              "      <td>7/6/2021</td>\n",
              "      <td>1.456887</td>\n",
              "      <td>1.393282</td>\n",
              "      <td>1.404712</td>\n",
              "      <td>1.418053</td>\n",
              "      <td>1.477700e+09</td>\n",
              "      <td>4.530158e+10</td>\n",
              "    </tr>\n",
              "  </tbody>\n",
              "</table>\n",
              "<p>1374 rows × 7 columns</p>\n",
              "</div>"
            ],
            "text/plain": [
              "           Date      High       Low  ...     Close        Volume     Marketcap\n",
              "0     10/2/2017  0.030088  0.019969  ...  0.025932  5.764130e+07  6.288991e+08\n",
              "1     10/3/2017  0.027425  0.020690  ...  0.020816  1.699780e+07  5.396927e+08\n",
              "2     10/4/2017  0.022806  0.020864  ...  0.021931  9.000050e+06  5.686195e+08\n",
              "3     10/5/2017  0.022154  0.020859  ...  0.021489  5.562510e+06  5.571390e+08\n",
              "4     10/6/2017  0.021542  0.018360  ...  0.018539  7.780710e+06  4.806646e+08\n",
              "...         ...       ...       ...  ...       ...           ...           ...\n",
              "1369   7/2/2021  1.394397  1.286607  ...  1.394397  2.159410e+09  4.454587e+10\n",
              "1370   7/3/2021  1.441714  1.359664  ...  1.406836  2.028094e+09  4.494324e+10\n",
              "1371   7/4/2021  1.493717  1.382153  ...  1.458184  1.806362e+09  4.658364e+10\n",
              "1372   7/5/2021  1.461221  1.379284  ...  1.404898  1.759461e+09  4.488134e+10\n",
              "1373   7/6/2021  1.456887  1.393282  ...  1.418053  1.477700e+09  4.530158e+10\n",
              "\n",
              "[1374 rows x 7 columns]"
            ]
          },
          "metadata": {},
          "execution_count": 2
        }
      ]
    },
    {
      "cell_type": "code",
      "metadata": {
        "colab": {
          "base_uri": "https://localhost:8080/"
        },
        "id": "zwtvx8c3Tbpk",
        "outputId": "22d63df0-eb38-4f6e-c0af-17811219ebbb"
      },
      "source": [
        "df.shape"
      ],
      "execution_count": null,
      "outputs": [
        {
          "output_type": "execute_result",
          "data": {
            "text/plain": [
              "(1374, 7)"
            ]
          },
          "metadata": {},
          "execution_count": 10
        }
      ]
    },
    {
      "cell_type": "code",
      "metadata": {
        "colab": {
          "base_uri": "https://localhost:8080/",
          "height": 493
        },
        "id": "aCGTdvR8Tbs-",
        "outputId": "a55cca17-1c05-4d9c-c2b3-f978c05edf70"
      },
      "source": [
        "plt.figure(figsize=(16,8))\n",
        "plt.title('Closing Price')\n",
        "plt.plot(df['High'])\n",
        "plt.xticks(range(0,df.shape[0],60),df['Date'].loc[::60],rotation=45)\n",
        "plt.xlabel('Date', fontsize=18)\n",
        "plt.ylabel('High Price', fontsize=18)"
      ],
      "execution_count": null,
      "outputs": [
        {
          "output_type": "execute_result",
          "data": {
            "text/plain": [
              "Text(0, 0.5, 'High Price')"
            ]
          },
          "metadata": {},
          "execution_count": 11
        },
        {
          "output_type": "display_data",
          "data": {
            "image/png": "[encoded data removed]",
            "text/plain": [
              "<Figure size 1152x576 with 1 Axes>"
            ]
          },
          "metadata": {
            "needs_background": "light"
          }
        }
      ]
    },
    {
      "cell_type": "code",
      "metadata": {
        "colab": {
          "base_uri": "https://localhost:8080/"
        },
        "id": "suD3p2lNTbwe",
        "outputId": "05f23861-c3bc-4e58-f0e2-704c55aeb4eb"
      },
      "source": [
        "# ดึงเฉพาะราคาสูงสุดมา\n",
        "data = df.filter(['High'])\n",
        "\n",
        "#แปลงข้อมูลใน data ให้เป็น Numpy array\n",
        "dataset = data.values\n",
        "\n",
        "#แบ่งข้อมูลแบบ train 80, test 20\n",
        "training_data_len = math.ceil(len(dataset) * 0.8)\n",
        "#ดูว่า train 80% มีขนาดเท่าไร\n",
        "training_data_len"
      ],
      "execution_count": null,
      "outputs": [
        {
          "output_type": "execute_result",
          "data": {
            "text/plain": [
              "1100"
            ]
          },
          "metadata": {},
          "execution_count": 31
        }
      ]
    },
    {
      "cell_type": "code",
      "metadata": {
        "id": "DFnKFhmdTb2o"
      },
      "source": [
        "# ปรับ Scaling\n",
        "scaler = MinMaxScaler(feature_range=(0,1))\n",
        "scaled_data = scaler.fit_transform(dataset)"
      ],
      "execution_count": null,
      "outputs": []
    },
    {
      "cell_type": "code",
      "metadata": {
        "id": "0P-FJsXrVKn5"
      },
      "source": [
        "# เลือก 80 % จาก scaled_data\n",
        "train_data = scaled_data[:training_data_len, :]\n",
        "\n",
        "x_train = [] \n",
        "y_train = []\n",
        "\n",
        "# เลือกข้อมูลมา 60วัน(x_train) เพือทำนายวันถัดไป(y_train)\n",
        "for i in range(60, len(train_data)):\n",
        "    x_train.append(train_data[i-60:i, 0])\n",
        "    y_train.append(train_data[i, 0])\n",
        "    \n",
        "#จากนั้นแปลงกับให้เป็น Numpy array\n",
        "x_train, y_train = np.array(x_train), np.array(y_train)"
      ],
      "execution_count": null,
      "outputs": []
    },
    {
      "cell_type": "code",
      "metadata": {
        "id": "II7ajN37VKtF"
      },
      "source": [
        "# reshape\n",
        "x_train = np.reshape(x_train, (x_train.shape[0], x_train.shape[1],1))\n"
      ],
      "execution_count": null,
      "outputs": []
    },
    {
      "cell_type": "code",
      "metadata": {
        "id": "ME9QpofuVKv3"
      },
      "source": [
        "# init model ขึ้นมาโดยใช้ LSTM\n",
        "model = Sequential()\n",
        "model.add(LSTM(50, return_sequences=True, input_shape=(x_train.shape[1],1)))\n",
        "model.add(LSTM(50, return_sequences=False))\n",
        "model.add(Dense(1))\n",
        "\n",
        "# Compile\n",
        "model.compile(loss='binary_crossentropy',optimizer='adam', metrics=['accuracy'])"
      ],
      "execution_count": null,
      "outputs": []
    },
    {
      "cell_type": "code",
      "metadata": {
        "colab": {
          "base_uri": "https://localhost:8080/"
        },
        "id": "G2SFKzkTVKyb",
        "outputId": "e98c530b-d06c-4d0b-de76-0f4369b4e259"
      },
      "source": [
        "# ทำการ Train model\n",
        "history = model.fit(x_train, y_train,  epochs=1,batch_size=1)\n",
        "#Dmodel.save(\"lstmCanano3\")\n"
      ],
      "execution_count": null,
      "outputs": [
        {
          "output_type": "stream",
          "name": "stdout",
          "text": [
            "1040/1040 [==============================] - 33s 29ms/step - loss: 0.1554 - accuracy: 0.0000e+00\n"
          ]
        }
      ]
    },
    {
      "cell_type": "code",
      "metadata": {
        "id": "v8w-O4H9SHNw"
      },
      "source": [
        "history = model.load_weights('/content/drive/MyDrive/lstmCanano3')"
      ],
      "execution_count": null,
      "outputs": []
    },
    {
      "cell_type": "code",
      "metadata": {
        "id": "d3WO3j8sVK0_"
      },
      "source": [
        "test_data = scaled_data[training_data_len - 60: , :] \n",
        "\n",
        "x_test = [] \n",
        "y_test = dataset[training_data_len: :]\n",
        "\n",
        "for i in range(60, len(test_data)):\n",
        "    x_test.append(test_data[i-60:i, 0])\n",
        "\n",
        "x_test = np.array(x_test)\n",
        "x_test = np.reshape(x_test, (x_test.shape[0], x_test.shape[1], 1))"
      ],
      "execution_count": null,
      "outputs": []
    },
    {
      "cell_type": "code",
      "metadata": {
        "id": "KUOlDepFVmzd"
      },
      "source": [
        "# ทำนาย model \n",
        "predictions = model.predict(x_test)\n",
        "\n",
        "# transform scaler กลับเป็นค่าเดิม\n",
        "predictions = scaler.inverse_transform(predictions)"
      ],
      "execution_count": null,
      "outputs": []
    },
    {
      "cell_type": "code",
      "metadata": {
        "colab": {
          "base_uri": "https://localhost:8080/"
        },
        "id": "R1v3S0xBVm8n",
        "outputId": "80f83c3e-3a7f-43b4-93ca-6d10ef5a1514"
      },
      "source": [
        "# ใช้ metrics แบบ root mean squared error\n",
        "rmse = np.sqrt(np.mean(predictions - y_test)**2)\n",
        "rmse"
      ],
      "execution_count": null,
      "outputs": [
        {
          "output_type": "execute_result",
          "data": {
            "text/plain": [
              "0.041804650114469516"
            ]
          },
          "metadata": {},
          "execution_count": 26
        }
      ]
    },
    {
      "cell_type": "code",
      "metadata": {
        "colab": {
          "base_uri": "https://localhost:8080/",
          "height": 698
        },
        "id": "UQLCCQY1Vm_k",
        "outputId": "b205cd5c-3abc-49ae-e52f-75c3ffb00c31"
      },
      "source": [
        "# plot ค่าจริงกับค่าที่ทำนายไว้มาดู\n",
        "train = data[:training_data_len]\n",
        "valid = data[training_data_len:]\n",
        "valid['Predictions'] = predictions\n",
        "valid['Date'] = df['Date']\n",
        "\n",
        "\n",
        "plt.figure(figsize=(16,8))\n",
        "plt.title('Model')\n",
        "plt.xticks(range(0,df.shape[0],60),df['Date'].loc[::60],rotation=45)\n",
        "plt.xlabel('Date', fontsize=18)\n",
        "plt.ylabel('High Price', fontsize=18)\n",
        "plt.plot(train['High'])\n",
        "plt.plot(valid[['High', 'Predictions']])\n",
        "plt.legend(['Train', 'Val', 'Predictions'] , loc='lower right')\n",
        "plt.show()"
      ],
      "execution_count": null,
      "outputs": [
        {
          "output_type": "stream",
          "name": "stderr",
          "text": [
            "/usr/local/lib/python3.7/dist-packages/ipykernel_launcher.py:4: SettingWithCopyWarning: \n",
            "A value is trying to be set on a copy of a slice from a DataFrame.\n",
            "Try using .loc[row_indexer,col_indexer] = value instead\n",
            "\n",
            "See the caveats in the documentation: https://pandas.pydata.org/pandas-docs/stable/user_guide/indexing.html#returning-a-view-versus-a-copy\n",
            "  after removing the cwd from sys.path.\n",
            "/usr/local/lib/python3.7/dist-packages/ipykernel_launcher.py:5: SettingWithCopyWarning: \n",
            "A value is trying to be set on a copy of a slice from a DataFrame.\n",
            "Try using .loc[row_indexer,col_indexer] = value instead\n",
            "\n",
            "See the caveats in the documentation: https://pandas.pydata.org/pandas-docs/stable/user_guide/indexing.html#returning-a-view-versus-a-copy\n",
            "  \"\"\"\n"
          ]
        },
        {
          "output_type": "display_data",
          "data": {
            "image/png": "[encoded data removed]",
            "text/plain": [
              "<Figure size 1152x576 with 1 Axes>"
            ]
          },
          "metadata": {
            "needs_background": "light"
          }
        }
      ]
    },
    {
      "cell_type": "code",
      "metadata": {
        "colab": {
          "base_uri": "https://localhost:8080/",
          "height": 417
        },
        "id": "DJifHI8UVnCU",
        "outputId": "66e898a1-37a8-4817-9a10-5feb45003246"
      },
      "source": [
        "valid"
      ],
      "execution_count": null,
      "outputs": [
        {
          "output_type": "execute_result",
          "data": {
            "text/html": [
              "<div>\n",
              "<style scoped>\n",
              "    .dataframe tbody tr th:only-of-type {\n",
              "        vertical-align: middle;\n",
              "    }\n",
              "\n",
              "    .dataframe tbody tr th {\n",
              "        vertical-align: top;\n",
              "    }\n",
              "\n",
              "    .dataframe thead th {\n",
              "        text-align: right;\n",
              "    }\n",
              "</style>\n",
              "<table border=\"1\" class=\"dataframe\">\n",
              "  <thead>\n",
              "    <tr style=\"text-align: right;\">\n",
              "      <th></th>\n",
              "      <th>High</th>\n",
              "      <th>Predictions</th>\n",
              "      <th>Date</th>\n",
              "    </tr>\n",
              "  </thead>\n",
              "  <tbody>\n",
              "    <tr>\n",
              "      <th>1100</th>\n",
              "      <td>0.098498</td>\n",
              "      <td>0.101125</td>\n",
              "      <td>10/6/2020</td>\n",
              "    </tr>\n",
              "    <tr>\n",
              "      <th>1101</th>\n",
              "      <td>0.094325</td>\n",
              "      <td>0.100795</td>\n",
              "      <td>10/7/2020</td>\n",
              "    </tr>\n",
              "    <tr>\n",
              "      <th>1102</th>\n",
              "      <td>0.096698</td>\n",
              "      <td>0.100069</td>\n",
              "      <td>10/8/2020</td>\n",
              "    </tr>\n",
              "    <tr>\n",
              "      <th>1103</th>\n",
              "      <td>0.102475</td>\n",
              "      <td>0.099522</td>\n",
              "      <td>10/9/2020</td>\n",
              "    </tr>\n",
              "    <tr>\n",
              "      <th>1104</th>\n",
              "      <td>0.110540</td>\n",
              "      <td>0.099815</td>\n",
              "      <td>10/10/2020</td>\n",
              "    </tr>\n",
              "    <tr>\n",
              "      <th>...</th>\n",
              "      <td>...</td>\n",
              "      <td>...</td>\n",
              "      <td>...</td>\n",
              "    </tr>\n",
              "    <tr>\n",
              "      <th>1369</th>\n",
              "      <td>1.394397</td>\n",
              "      <td>1.335428</td>\n",
              "      <td>7/2/2021</td>\n",
              "    </tr>\n",
              "    <tr>\n",
              "      <th>1370</th>\n",
              "      <td>1.441714</td>\n",
              "      <td>1.341245</td>\n",
              "      <td>7/3/2021</td>\n",
              "    </tr>\n",
              "    <tr>\n",
              "      <th>1371</th>\n",
              "      <td>1.493717</td>\n",
              "      <td>1.352575</td>\n",
              "      <td>7/4/2021</td>\n",
              "    </tr>\n",
              "    <tr>\n",
              "      <th>1372</th>\n",
              "      <td>1.461221</td>\n",
              "      <td>1.371690</td>\n",
              "      <td>7/5/2021</td>\n",
              "    </tr>\n",
              "    <tr>\n",
              "      <th>1373</th>\n",
              "      <td>1.456887</td>\n",
              "      <td>1.386550</td>\n",
              "      <td>7/6/2021</td>\n",
              "    </tr>\n",
              "  </tbody>\n",
              "</table>\n",
              "<p>274 rows × 3 columns</p>\n",
              "</div>"
            ],
            "text/plain": [
              "          High  Predictions        Date\n",
              "1100  0.098498     0.101125   10/6/2020\n",
              "1101  0.094325     0.100795   10/7/2020\n",
              "1102  0.096698     0.100069   10/8/2020\n",
              "1103  0.102475     0.099522   10/9/2020\n",
              "1104  0.110540     0.099815  10/10/2020\n",
              "...        ...          ...         ...\n",
              "1369  1.394397     1.335428    7/2/2021\n",
              "1370  1.441714     1.341245    7/3/2021\n",
              "1371  1.493717     1.352575    7/4/2021\n",
              "1372  1.461221     1.371690    7/5/2021\n",
              "1373  1.456887     1.386550    7/6/2021\n",
              "\n",
              "[274 rows x 3 columns]"
            ]
          },
          "metadata": {},
          "execution_count": 28
        }
      ]
    },
    {
      "cell_type": "code",
      "metadata": {
        "id": "B9vNpSzClHPU",
        "colab": {
          "base_uri": "https://localhost:8080/"
        },
        "outputId": "041482f0-5317-447a-eab5-945c2e90a5b1"
      },
      "source": [
        "# ดึง data มาอีกรอบเพื่ออ้างอิง\n",
        "quote = pd.read_csv(\"/content/drive/MyDrive/coin_Cardano1.csv\")\n",
        "\n",
        "#สร้าง DataFrame มาใหม่\n",
        "new_df = quote.filter(['High'])\n",
        "\n",
        "# ดึงราคาสูงสุดจาก 60 วันล่าสุด\n",
        "last_60_days = new_df[-60:].values\n",
        "\n",
        "# Scale\n",
        "last_60_days_scaled = scaler.transform(last_60_days)\n",
        "\n",
        "X_test = []\n",
        "X_test.append(last_60_days_scaled)\n",
        "X_test = np.array(X_test)\n",
        "X_test = np.reshape(X_test, (X_test.shape[0], X_test.shape[1], 1))\n",
        "\n",
        "#predicted\n",
        "pred_price = model.predict(X_test)\n",
        "\n",
        "#Undo the scaling\n",
        "pred_price = scaler.inverse_transform(pred_price)\n",
        "print(pred_price)\n",
        "\n"
      ],
      "execution_count": null,
      "outputs": [
        {
          "output_type": "stream",
          "name": "stdout",
          "text": [
            "[[1.3970459]]\n"
          ]
        }
      ]
    },
    {
      "cell_type": "code",
      "metadata": {
        "colab": {
          "base_uri": "https://localhost:8080/"
        },
        "id": "t3wXouLylHWp",
        "outputId": "61a1c65f-35e7-482c-d200-2d59160c1cb9"
      },
      "source": [
        "quote2 = pd.read_csv(\"/content/drive/MyDrive/coin_Cardano1.csv\")\n",
        "quote2['High']"
      ],
      "execution_count": null,
      "outputs": [
        {
          "output_type": "execute_result",
          "data": {
            "text/plain": [
              "0       0.030088\n",
              "1       0.027425\n",
              "2       0.022806\n",
              "3       0.022154\n",
              "4       0.021542\n",
              "          ...   \n",
              "1369    1.394397\n",
              "1370    1.441714\n",
              "1371    1.493717\n",
              "1372    1.461221\n",
              "1373    1.456887\n",
              "Name: High, Length: 1374, dtype: float64"
            ]
          },
          "metadata": {},
          "execution_count": 30
        }
      ]
    }
  ]
}